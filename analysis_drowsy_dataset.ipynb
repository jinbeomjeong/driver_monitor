{
 "cells": [
  {
   "cell_type": "code",
   "execution_count": 1,
   "metadata": {
    "collapsed": true
   },
   "outputs": [
    {
     "name": "stderr",
     "output_type": "stream",
     "text": [
      "/mnt/workspace/driver_monitor/venv/lib/python3.8/site-packages/tqdm/auto.py:22: TqdmWarning: IProgress not found. Please update jupyter and ipywidgets. See https://ipywidgets.readthedocs.io/en/stable/user_install.html\n",
      "  from .autonotebook import tqdm as notebook_tqdm\n"
     ]
    }
   ],
   "source": [
    "import os, cv2, torch\n",
    "import numpy as np\n",
    "from torch.utils.data import Dataset, DataLoader, random_split\n",
    "from torchvision import transforms\n",
    "from PIL import Image\n",
    "from tqdm import tqdm"
   ]
  },
  {
   "cell_type": "code",
   "execution_count": 2,
   "outputs": [],
   "source": [
    "device = torch.device('cuda')\n",
    "torch.multiprocessing.set_start_method(\"spawn\")"
   ],
   "metadata": {
    "collapsed": false
   }
  },
  {
   "cell_type": "code",
   "execution_count": 3,
   "outputs": [],
   "source": [
    "img_path_list = []\n",
    "label_path_list = []\n",
    "\n",
    "img_path  = './dataset/aihub_drowsy_dataset/real_env/image/4.truck'\n",
    "label_path = './dataset/aihub_drowsy_dataset/real_env/label/4.truck'\n",
    "\n",
    "img_dir_name_list = os.listdir(img_path)\n",
    "img_dir_name_list.sort()\n",
    "\n",
    "for img_dir_name in img_dir_name_list:\n",
    "    img_name_list = os.listdir(img_path + os.sep + img_dir_name)\n",
    "    img_name_list.sort()\n",
    "\n",
    "    for img_name in img_name_list:\n",
    "        img_path_list.append(img_path + os.sep + img_dir_name + os.sep + img_name)\n",
    "\n",
    "label_dir_name_list = os.listdir(label_path)\n",
    "label_dir_name_list.sort()\n",
    "\n",
    "for label_dir_name in label_dir_name_list:\n",
    "    for label_name in os.listdir(label_path + os.sep + label_dir_name):\n",
    "        label_path_list.append(label_path + os.sep + label_name)\n"
   ],
   "metadata": {
    "collapsed": false
   }
  },
  {
   "cell_type": "code",
   "execution_count": 4,
   "outputs": [],
   "source": [
    "img_path_list = img_path_list[:int(len(img_path_list)/2)]"
   ],
   "metadata": {
    "collapsed": false
   }
  },
  {
   "cell_type": "code",
   "execution_count": 5,
   "outputs": [],
   "source": [
    "class DrowsyDataset(Dataset):\n",
    "    def __init__(self, transform):\n",
    "        self.transform = transform\n",
    "        self.img_list = []\n",
    "        #self.label_list = []\n",
    "\n",
    "        for img_path in img_path_list:\n",
    "            self.img_list.append(Image.fromarray(np.uint8(cv2.imread(img_path))))\n",
    "            #self.label_list.append(int(file_name.split('_')[4]))\n",
    "\n",
    "        self.img_transform = transforms.Compose([transforms.Resize((64, 64)), transforms.ToTensor()])\n",
    "\n",
    "    def __len__(self):\n",
    "        return len(self.img_list)\n",
    "\n",
    "    def __getitem__(self, idx):\n",
    "        img = self.img_list[idx]\n",
    "        #label = self.label_list[idx]\n",
    "\n",
    "        if self.transform:\n",
    "            img = self.img_transform(img)\n",
    "\n",
    "        return img.to(device)"
   ],
   "metadata": {
    "collapsed": false
   }
  },
  {
   "cell_type": "code",
   "execution_count": 6,
   "outputs": [],
   "source": [
    "dataset = DrowsyDataset(transform=True)\n"
   ],
   "metadata": {
    "collapsed": false
   }
  },
  {
   "cell_type": "code",
   "execution_count": 18,
   "outputs": [],
   "source": [
    "dataset_data_loader = DataLoader(dataset=dataset, batch_size=1000, num_workers=0)\n"
   ],
   "metadata": {
    "collapsed": false
   }
  },
  {
   "cell_type": "code",
   "execution_count": 19,
   "outputs": [
    {
     "name": "stderr",
     "output_type": "stream",
     "text": [
      "100%|████████████████████████████████████████████████████████████████████████████████| 14/14 [00:56<00:00,  4.02s/batch]\n"
     ]
    }
   ],
   "source": [
    "with tqdm(dataset_data_loader, unit='batch', ncols=120) as tqdm_epochs:\n",
    "    for img in tqdm_epochs:\n",
    "        pass\n",
    "\n",
    "    #tqdm_epochs.set_postfix(loss=f'{loss.item():.3f}', p=f'{precision:.2f}', r=f'{recall:.2f}', f1=f'{f1:.2f}', a=f'{accuracy:.2f}')\n",
    "\n",
    "\n"
   ],
   "metadata": {
    "collapsed": false
   }
  },
  {
   "cell_type": "code",
   "execution_count": null,
   "outputs": [],
   "source": [],
   "metadata": {
    "collapsed": false
   }
  }
 ],
 "metadata": {
  "kernelspec": {
   "display_name": "Python 3",
   "language": "python",
   "name": "python3"
  },
  "language_info": {
   "codemirror_mode": {
    "name": "ipython",
    "version": 2
   },
   "file_extension": ".py",
   "mimetype": "text/x-python",
   "name": "python",
   "nbconvert_exporter": "python",
   "pygments_lexer": "ipython2",
   "version": "2.7.6"
  }
 },
 "nbformat": 4,
 "nbformat_minor": 0
}
