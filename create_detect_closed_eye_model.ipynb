{
 "cells": [
  {
   "cell_type": "code",
   "execution_count": 52,
   "outputs": [],
   "source": [
    "import time\n",
    "import matplotlib.pyplot as plt\n",
    "import pandas as pd\n",
    "import numpy as np\n",
    "import lightgbm as lgb\n",
    "import joblib\n",
    "from sklearn.model_selection import train_test_split, GridSearchCV\n",
    "from sklearn.metrics import accuracy_score, confusion_matrix, classification_report\n",
    "from lightgbm import plot_importance"
   ],
   "metadata": {
    "collapsed": false,
    "pycharm": {
     "name": "#%%\n"
    }
   }
  },
  {
   "cell_type": "code",
   "execution_count": 4,
   "outputs": [],
   "source": [
    "start_time = time.strftime('%Y%m%d-%H%M%S', time.localtime(time.time()))"
   ],
   "metadata": {
    "collapsed": false,
    "pycharm": {
     "name": "#%%\n"
    }
   }
  },
  {
   "cell_type": "code",
   "execution_count": 11,
   "outputs": [],
   "source": [
    "data = pd.read_csv('./actual_result.csv',)"
   ],
   "metadata": {
    "collapsed": false,
    "pycharm": {
     "name": "#%%\n"
    }
   }
  },
  {
   "cell_type": "code",
   "execution_count": 28,
   "outputs": [
    {
     "data": {
      "text/plain": "       left_eye_H_dist  left_eye_V_dist  right_eye_H_dist  right_eye_V_dist\ncount     65132.000000     65132.000000      65132.000000      65132.000000\nmean         53.577369        23.839123         52.108386         23.795274\nstd           8.409459         7.014938          8.566926          7.037762\nmin           2.828427         1.000000          1.414214          1.000000\n25%          49.010203        19.219544         48.041649         19.055385\n50%          53.037722        24.041595         52.086467         23.549657\n75%          57.948251        28.177804         56.320511         28.152946\nmax         159.423963        66.272166        191.760267         77.894284",
      "text/html": "<div>\n<style scoped>\n    .dataframe tbody tr th:only-of-type {\n        vertical-align: middle;\n    }\n\n    .dataframe tbody tr th {\n        vertical-align: top;\n    }\n\n    .dataframe thead th {\n        text-align: right;\n    }\n</style>\n<table border=\"1\" class=\"dataframe\">\n  <thead>\n    <tr style=\"text-align: right;\">\n      <th></th>\n      <th>left_eye_H_dist</th>\n      <th>left_eye_V_dist</th>\n      <th>right_eye_H_dist</th>\n      <th>right_eye_V_dist</th>\n    </tr>\n  </thead>\n  <tbody>\n    <tr>\n      <th>count</th>\n      <td>65132.000000</td>\n      <td>65132.000000</td>\n      <td>65132.000000</td>\n      <td>65132.000000</td>\n    </tr>\n    <tr>\n      <th>mean</th>\n      <td>53.577369</td>\n      <td>23.839123</td>\n      <td>52.108386</td>\n      <td>23.795274</td>\n    </tr>\n    <tr>\n      <th>std</th>\n      <td>8.409459</td>\n      <td>7.014938</td>\n      <td>8.566926</td>\n      <td>7.037762</td>\n    </tr>\n    <tr>\n      <th>min</th>\n      <td>2.828427</td>\n      <td>1.000000</td>\n      <td>1.414214</td>\n      <td>1.000000</td>\n    </tr>\n    <tr>\n      <th>25%</th>\n      <td>49.010203</td>\n      <td>19.219544</td>\n      <td>48.041649</td>\n      <td>19.055385</td>\n    </tr>\n    <tr>\n      <th>50%</th>\n      <td>53.037722</td>\n      <td>24.041595</td>\n      <td>52.086467</td>\n      <td>23.549657</td>\n    </tr>\n    <tr>\n      <th>75%</th>\n      <td>57.948251</td>\n      <td>28.177804</td>\n      <td>56.320511</td>\n      <td>28.152946</td>\n    </tr>\n    <tr>\n      <th>max</th>\n      <td>159.423963</td>\n      <td>66.272166</td>\n      <td>191.760267</td>\n      <td>77.894284</td>\n    </tr>\n  </tbody>\n</table>\n</div>"
     },
     "execution_count": 28,
     "metadata": {},
     "output_type": "execute_result"
    }
   ],
   "source": [
    "feature_data = data.drop(columns=['driver_status'])\n",
    "feature_data.describe()"
   ],
   "metadata": {
    "collapsed": false,
    "pycharm": {
     "name": "#%%\n"
    }
   }
  },
  {
   "cell_type": "code",
   "execution_count": 37,
   "outputs": [
    {
     "data": {
      "text/plain": "count     65132\nunique        2\ntop        True\nfreq      57072\nName: driver_status, dtype: object"
     },
     "execution_count": 37,
     "metadata": {},
     "output_type": "execute_result"
    }
   ],
   "source": [
    "target_data = data['driver_status']\n",
    "target_data.describe()"
   ],
   "metadata": {
    "collapsed": false,
    "pycharm": {
     "name": "#%%\n"
    }
   }
  },
  {
   "cell_type": "code",
   "execution_count": 79,
   "outputs": [],
   "source": [
    "depth = 8\n",
    "leaves = 2**depth\n",
    "lr = 0.005\n",
    "n_estimators = 1000"
   ],
   "metadata": {
    "collapsed": false,
    "pycharm": {
     "name": "#%%\n"
    }
   }
  },
  {
   "cell_type": "code",
   "execution_count": 80,
   "outputs": [],
   "source": [
    "model = lgb.LGBMClassifier(boosting_type='gbdt', num_leaves=leaves, max_depth=depth, learning_rate=lr, n_estimators=n_estimators)"
   ],
   "metadata": {
    "collapsed": false,
    "pycharm": {
     "name": "#%%\n"
    }
   }
  },
  {
   "cell_type": "code",
   "execution_count": 81,
   "outputs": [],
   "source": [
    "train_features, test_features, train_target, test_target = train_test_split(feature_data, target_data, test_size=0.2, random_state=100)"
   ],
   "metadata": {
    "collapsed": false,
    "pycharm": {
     "name": "#%%\n"
    }
   }
  },
  {
   "cell_type": "code",
   "execution_count": 82,
   "outputs": [
    {
     "name": "stderr",
     "output_type": "stream",
     "text": [
      "/home/jinbeom/workspace/driver_monitor/venv/lib/python3.8/site-packages/lightgbm/sklearn.py:736: UserWarning: 'verbose' argument is deprecated and will be removed in a future release of LightGBM. Pass 'log_evaluation()' callback via 'callbacks' argument instead.\n",
      "  _log_warning(\"'verbose' argument is deprecated and will be removed in a future release of LightGBM. \"\n"
     ]
    },
    {
     "name": "stdout",
     "output_type": "stream",
     "text": [
      "[10]\tvalid_0's binary_logloss: 0.36585\n",
      "[20]\tvalid_0's binary_logloss: 0.357823\n",
      "[30]\tvalid_0's binary_logloss: 0.350917\n",
      "[40]\tvalid_0's binary_logloss: 0.344935\n",
      "[50]\tvalid_0's binary_logloss: 0.339757\n",
      "[60]\tvalid_0's binary_logloss: 0.335088\n",
      "[70]\tvalid_0's binary_logloss: 0.330957\n",
      "[80]\tvalid_0's binary_logloss: 0.32728\n",
      "[90]\tvalid_0's binary_logloss: 0.323992\n",
      "[100]\tvalid_0's binary_logloss: 0.321004\n",
      "[110]\tvalid_0's binary_logloss: 0.318305\n",
      "[120]\tvalid_0's binary_logloss: 0.315891\n",
      "[130]\tvalid_0's binary_logloss: 0.313671\n",
      "[140]\tvalid_0's binary_logloss: 0.311646\n",
      "[150]\tvalid_0's binary_logloss: 0.309771\n",
      "[160]\tvalid_0's binary_logloss: 0.308062\n",
      "[170]\tvalid_0's binary_logloss: 0.306506\n",
      "[180]\tvalid_0's binary_logloss: 0.305065\n",
      "[190]\tvalid_0's binary_logloss: 0.303682\n",
      "[200]\tvalid_0's binary_logloss: 0.302392\n",
      "[210]\tvalid_0's binary_logloss: 0.30122\n",
      "[220]\tvalid_0's binary_logloss: 0.300177\n",
      "[230]\tvalid_0's binary_logloss: 0.299215\n",
      "[240]\tvalid_0's binary_logloss: 0.298343\n",
      "[250]\tvalid_0's binary_logloss: 0.297515\n",
      "[260]\tvalid_0's binary_logloss: 0.296796\n",
      "[270]\tvalid_0's binary_logloss: 0.296146\n",
      "[280]\tvalid_0's binary_logloss: 0.295565\n",
      "[290]\tvalid_0's binary_logloss: 0.295007\n",
      "[300]\tvalid_0's binary_logloss: 0.29444\n",
      "[310]\tvalid_0's binary_logloss: 0.293918\n",
      "[320]\tvalid_0's binary_logloss: 0.293473\n",
      "[330]\tvalid_0's binary_logloss: 0.293115\n",
      "[340]\tvalid_0's binary_logloss: 0.292742\n",
      "[350]\tvalid_0's binary_logloss: 0.292436\n",
      "[360]\tvalid_0's binary_logloss: 0.292164\n",
      "[370]\tvalid_0's binary_logloss: 0.291874\n",
      "[380]\tvalid_0's binary_logloss: 0.291609\n",
      "[390]\tvalid_0's binary_logloss: 0.291396\n",
      "[400]\tvalid_0's binary_logloss: 0.291122\n",
      "[410]\tvalid_0's binary_logloss: 0.290884\n",
      "[420]\tvalid_0's binary_logloss: 0.290655\n",
      "[430]\tvalid_0's binary_logloss: 0.290427\n",
      "[440]\tvalid_0's binary_logloss: 0.290199\n",
      "[450]\tvalid_0's binary_logloss: 0.289987\n",
      "[460]\tvalid_0's binary_logloss: 0.289792\n",
      "[470]\tvalid_0's binary_logloss: 0.289592\n",
      "[480]\tvalid_0's binary_logloss: 0.289392\n",
      "[490]\tvalid_0's binary_logloss: 0.289223\n",
      "[500]\tvalid_0's binary_logloss: 0.289093\n",
      "[510]\tvalid_0's binary_logloss: 0.28898\n",
      "[520]\tvalid_0's binary_logloss: 0.288845\n",
      "[530]\tvalid_0's binary_logloss: 0.288715\n",
      "[540]\tvalid_0's binary_logloss: 0.288557\n",
      "[550]\tvalid_0's binary_logloss: 0.288438\n",
      "[560]\tvalid_0's binary_logloss: 0.288343\n",
      "[570]\tvalid_0's binary_logloss: 0.288243\n",
      "[580]\tvalid_0's binary_logloss: 0.288154\n",
      "[590]\tvalid_0's binary_logloss: 0.288068\n",
      "[600]\tvalid_0's binary_logloss: 0.288004\n",
      "[610]\tvalid_0's binary_logloss: 0.287945\n",
      "[620]\tvalid_0's binary_logloss: 0.287902\n",
      "[630]\tvalid_0's binary_logloss: 0.287828\n",
      "[640]\tvalid_0's binary_logloss: 0.287774\n",
      "[650]\tvalid_0's binary_logloss: 0.287727\n",
      "[660]\tvalid_0's binary_logloss: 0.287674\n",
      "[670]\tvalid_0's binary_logloss: 0.287618\n",
      "[680]\tvalid_0's binary_logloss: 0.287562\n",
      "[690]\tvalid_0's binary_logloss: 0.287517\n",
      "[700]\tvalid_0's binary_logloss: 0.287502\n",
      "[710]\tvalid_0's binary_logloss: 0.287482\n",
      "[720]\tvalid_0's binary_logloss: 0.28746\n",
      "[730]\tvalid_0's binary_logloss: 0.287457\n",
      "[740]\tvalid_0's binary_logloss: 0.28744\n",
      "[750]\tvalid_0's binary_logloss: 0.287409\n",
      "[760]\tvalid_0's binary_logloss: 0.287384\n",
      "[770]\tvalid_0's binary_logloss: 0.287347\n",
      "[780]\tvalid_0's binary_logloss: 0.28731\n",
      "[790]\tvalid_0's binary_logloss: 0.287275\n",
      "[800]\tvalid_0's binary_logloss: 0.287229\n",
      "[810]\tvalid_0's binary_logloss: 0.28722\n",
      "[820]\tvalid_0's binary_logloss: 0.28721\n",
      "[830]\tvalid_0's binary_logloss: 0.287207\n",
      "[840]\tvalid_0's binary_logloss: 0.287198\n",
      "[850]\tvalid_0's binary_logloss: 0.287192\n",
      "[860]\tvalid_0's binary_logloss: 0.287177\n",
      "[870]\tvalid_0's binary_logloss: 0.287187\n",
      "[880]\tvalid_0's binary_logloss: 0.287176\n",
      "[890]\tvalid_0's binary_logloss: 0.287144\n",
      "[900]\tvalid_0's binary_logloss: 0.287131\n",
      "[910]\tvalid_0's binary_logloss: 0.2871\n",
      "[920]\tvalid_0's binary_logloss: 0.287102\n",
      "[930]\tvalid_0's binary_logloss: 0.287088\n",
      "[940]\tvalid_0's binary_logloss: 0.287087\n",
      "[950]\tvalid_0's binary_logloss: 0.287079\n",
      "[960]\tvalid_0's binary_logloss: 0.287044\n",
      "[970]\tvalid_0's binary_logloss: 0.287018\n",
      "[980]\tvalid_0's binary_logloss: 0.286982\n",
      "[990]\tvalid_0's binary_logloss: 0.286962\n",
      "[1000]\tvalid_0's binary_logloss: 0.286941\n"
     ]
    },
    {
     "data": {
      "text/plain": "<Figure size 640x480 with 0 Axes>"
     },
     "metadata": {},
     "output_type": "display_data"
    },
    {
     "data": {
      "text/plain": "<Figure size 640x480 with 1 Axes>",
      "image/png": "[encoded data removed]"
     },
     "metadata": {},
     "output_type": "display_data"
    }
   ],
   "source": [
    "model.fit(train_features, train_target, eval_set=[(test_features, test_target)], verbose=10)\n",
    "pred_output = model.predict(test_features, num_iteration=model._best_iteration)\n",
    "plt.figure()\n",
    "plot_importance(model)\n",
    "plt.show()"
   ],
   "metadata": {
    "collapsed": false,
    "pycharm": {
     "name": "#%%\n"
    }
   }
  },
  {
   "cell_type": "code",
   "execution_count": 83,
   "outputs": [
    {
     "data": {
      "text/plain": "0.8860059875642895"
     },
     "execution_count": 83,
     "metadata": {},
     "output_type": "execute_result"
    }
   ],
   "source": [
    "accuracy = accuracy_score(pred_output, test_target)\n",
    "accuracy"
   ],
   "metadata": {
    "collapsed": false,
    "pycharm": {
     "name": "#%%\n"
    }
   }
  },
  {
   "cell_type": "code",
   "execution_count": 84,
   "outputs": [
    {
     "data": {
      "text/plain": "array([[  411,  1209],\n       [  276, 11131]])"
     },
     "execution_count": 84,
     "metadata": {},
     "output_type": "execute_result"
    }
   ],
   "source": [
    "confusion_matrix(test_target, pred_output)"
   ],
   "metadata": {
    "collapsed": false,
    "pycharm": {
     "name": "#%%\n"
    }
   }
  },
  {
   "cell_type": "code",
   "execution_count": 85,
   "outputs": [
    {
     "name": "stdout",
     "output_type": "stream",
     "text": [
      "              precision    recall  f1-score   support\n",
      "\n",
      "       False       0.60      0.25      0.36      1620\n",
      "        True       0.90      0.98      0.94     11407\n",
      "\n",
      "    accuracy                           0.89     13027\n",
      "   macro avg       0.75      0.61      0.65     13027\n",
      "weighted avg       0.86      0.89      0.87     13027\n",
      "\n"
     ]
    }
   ],
   "source": [
    "print(classification_report(test_target, pred_output))"
   ],
   "metadata": {
    "collapsed": false,
    "pycharm": {
     "name": "#%%\n"
    }
   }
  },
  {
   "cell_type": "code",
   "execution_count": 86,
   "outputs": [
    {
     "data": {
      "text/plain": "['./model.pkl']"
     },
     "execution_count": 86,
     "metadata": {},
     "output_type": "execute_result"
    }
   ],
   "source": [
    "joblib.dump(model, './model.pkl')"
   ],
   "metadata": {
    "collapsed": false,
    "pycharm": {
     "name": "#%%\n"
    }
   }
  },
  {
   "cell_type": "code",
   "execution_count": null,
   "outputs": [],
   "source": [],
   "metadata": {
    "collapsed": false,
    "pycharm": {
     "name": "#%%\n"
    }
   }
  }
 ],
 "metadata": {
  "kernelspec": {
   "display_name": "Python 3",
   "language": "python",
   "name": "python3"
  },
  "language_info": {
   "codemirror_mode": {
    "name": "ipython",
    "version": 2
   },
   "file_extension": ".py",
   "mimetype": "text/x-python",
   "name": "python",
   "nbconvert_exporter": "python",
   "pygments_lexer": "ipython2",
   "version": "2.7.6"
  }
 },
 "nbformat": 4,
 "nbformat_minor": 0
}